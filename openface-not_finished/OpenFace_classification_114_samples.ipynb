{
 "cells": [
  {
   "cell_type": "code",
   "execution_count": 1,
   "metadata": {},
   "outputs": [],
   "source": [
    "import pandas as pd\n",
    "import numpy as np\n",
    "import os\n",
    "from tqdm import tqdm"
   ]
  },
  {
   "cell_type": "code",
   "execution_count": 2,
   "metadata": {},
   "outputs": [],
   "source": [
    "DATA_DIR = r'C:\\Users\\User\\Downloads\\Real-life_Deception_Detection_2016\\Frames\\Openface_features'"
   ]
  },
  {
   "cell_type": "code",
   "execution_count": 3,
   "metadata": {},
   "outputs": [
    {
     "name": "stderr",
     "output_type": "stream",
     "text": [
      " 78%|███████▊  | 185/238 [00:25<00:07,  6.75it/s]"
     ]
    },
    {
     "name": "stdout",
     "output_type": "stream",
     "text": [
      "trial_truth_033.csv\n"
     ]
    },
    {
     "name": "stderr",
     "output_type": "stream",
     "text": [
      " 79%|███████▊  | 187/238 [00:26<00:08,  6.25it/s]"
     ]
    },
    {
     "name": "stdout",
     "output_type": "stream",
     "text": [
      "trial_truth_034.csv\n"
     ]
    },
    {
     "name": "stderr",
     "output_type": "stream",
     "text": [
      " 81%|████████  | 193/238 [00:27<00:06,  6.84it/s]"
     ]
    },
    {
     "name": "stdout",
     "output_type": "stream",
     "text": [
      "trial_truth_037.csv\n"
     ]
    },
    {
     "name": "stderr",
     "output_type": "stream",
     "text": [
      "100%|██████████| 238/238 [00:31<00:00,  7.46it/s]"
     ]
    },
    {
     "name": "stdout",
     "output_type": "stream",
     "text": [
      "(114, 1316) (114,)\n"
     ]
    },
    {
     "name": "stderr",
     "output_type": "stream",
     "text": [
      "\n"
     ]
    }
   ],
   "source": [
    "def create_openface_dataset(data_dir):\n",
    "    x = []\n",
    "    y = []\n",
    "    filenames = []\n",
    "    \n",
    "    for filename in tqdm(os.listdir(data_dir)):\n",
    "        fn=os.path.splitext(filename)[0] # goes through files names without extension\n",
    "        if 'of_details' not in fn:\n",
    "            # filenames.append(fn)\n",
    "            openface_df = pd.read_csv(os.path.join(data_dir,filename))\n",
    "            # fill zeroes with mean values where openface failed to detect faces \n",
    "            openface_df.loc[openface_df[' success'] == 0] = openface_df.loc[openface_df[' success'] == 0].replace(0, openface_df.loc[openface_df[' success'] == 1].mean())\n",
    "            # remove some irrelevant columns\n",
    "            openface_df = openface_df.loc[:, ~openface_df.columns.isin(['frame', ' face_id', ' timestamp', ' confidence', ' success'])]\n",
    "\n",
    "            total_features=None\n",
    "            mean_features = (np.mean(openface_df, axis=0))\n",
    "            std_features = (np.std(openface_df, axis=0))\n",
    "            max_features = (np.max(openface_df, axis=0))\n",
    "            min_features = (np.min(openface_df, axis=0))\n",
    "\n",
    "            # join several features together\n",
    "            feature = np.concatenate((mean_features, std_features, min_features, max_features), axis=None)                    \n",
    "            #feature = np.concatenate((mean_features, std_features, min_features), axis=None)\n",
    "            #feature = np.concatenate((mean_features, min_features, max_features), axis=None)\n",
    "            #feature = np.concatenate((max_features, std_features), axis=None)\n",
    "            #feature=max_features\n",
    "\n",
    "            total_features=feature\n",
    "            \n",
    "            is_nan = False\n",
    "            for j in range(len(total_features)):\n",
    "                if np.isnan(total_features[j]):\n",
    "                    is_nan = True\n",
    "            \n",
    "            if is_nan == False and total_features is not None:\n",
    "                x.append(total_features)\n",
    "                if filename[6:11] == 'truth':\n",
    "                    y.append(1)\n",
    "                else:\n",
    "                    y.append(0)\n",
    "                # print(filename + '_' + i)\n",
    "                filenames.append(fn)\n",
    "\n",
    "            if is_nan == True:\n",
    "                print(filename)\n",
    "\n",
    "    x=np.array(x)\n",
    "    y=np.array(y)\n",
    "    \n",
    "    print(x.shape,y.shape)\n",
    "    return x,y,filenames\n",
    "\n",
    "X, y, filenames = create_openface_dataset(os.path.join(DATA_DIR))\n",
    "# x_test, y_test = create_openface_dataset(os.path.join(DATA_DIR, 'Val_AFEW'))"
   ]
  },
  {
   "cell_type": "markdown",
   "metadata": {},
   "source": [
    "trial_truth_033, trial_truth_034, trial_truth_037 - files with NaN values"
   ]
  },
  {
   "cell_type": "markdown",
   "metadata": {},
   "source": [
    "### Openface Train/Test Split"
   ]
  },
  {
   "cell_type": "markdown",
   "metadata": {},
   "source": [
    "### Classification"
   ]
  },
  {
   "cell_type": "code",
   "execution_count": 5,
   "metadata": {},
   "outputs": [],
   "source": [
    "import xgboost as xgb\n",
    "import sklearn.metrics as metrics\n",
    "from sklearn.linear_model import LogisticRegression\n",
    "from sklearn.model_selection import RandomizedSearchCV\n",
    "from sklearn.ensemble import RandomForestClassifier\n",
    "from sklearn.model_selection import cross_val_score\n",
    "from sklearn.model_selection import StratifiedKFold"
   ]
  },
  {
   "cell_type": "markdown",
   "metadata": {},
   "source": [
    "### Cross_val_score"
   ]
  },
  {
   "cell_type": "code",
   "execution_count": 6,
   "metadata": {},
   "outputs": [
    {
     "name": "stdout",
     "output_type": "stream",
     "text": [
      "[1.         1.         1.         0.91666667 1.         1.\n",
      " 0.90909091 1.         0.90909091 1.        ]\n",
      "0.97 accuracy with a standard deviation of 0.04\n"
     ]
    }
   ],
   "source": [
    "xgb_clf = xgb.XGBClassifier(use_label_encoder=False)\n",
    "scores = cross_val_score(xgb_clf, X, y, cv=StratifiedKFold(10))\n",
    "print(scores)\n",
    "print(\"%0.2f accuracy with a standard deviation of %0.2f\" % (scores.mean(), scores.std()))"
   ]
  },
  {
   "cell_type": "code",
   "execution_count": 7,
   "metadata": {},
   "outputs": [
    {
     "data": {
      "text/plain": [
       "114"
      ]
     },
     "execution_count": 7,
     "metadata": {},
     "output_type": "execute_result"
    }
   ],
   "source": [
    "len(X)"
   ]
  },
  {
   "cell_type": "code",
   "execution_count": 8,
   "metadata": {},
   "outputs": [
    {
     "data": {
      "text/plain": [
       "114"
      ]
     },
     "execution_count": 8,
     "metadata": {},
     "output_type": "execute_result"
    }
   ],
   "source": [
    "len(y)"
   ]
  },
  {
   "cell_type": "code",
   "execution_count": 38,
   "metadata": {},
   "outputs": [
    {
     "name": "stdout",
     "output_type": "stream",
     "text": [
      "[1.         1.         0.91304348 1.         1.         1.\n",
      " 0.95652174 1.         0.90909091 1.        ]\n",
      "0.98 accuracy with a standard deviation of 0.04\n"
     ]
    }
   ],
   "source": [
    "rfc_clf = RandomForestClassifier(n_estimators = 1000)\n",
    "scores = cross_val_score(rfc_clf, X, y, cv=10)\n",
    "print(scores)\n",
    "print(\"%0.2f accuracy with a standard deviation of %0.2f\" % (scores.mean(), scores.std()))"
   ]
  }
 ],
 "metadata": {
  "interpreter": {
   "hash": "f08154012ddadd8e950e6e9e035c7a7b32c136e7647e9b7c77e02eb723a8bedb"
  },
  "kernelspec": {
   "display_name": "Python 3.8.5 ('base')",
   "language": "python",
   "name": "python3"
  },
  "language_info": {
   "codemirror_mode": {
    "name": "ipython",
    "version": 3
   },
   "file_extension": ".py",
   "mimetype": "text/x-python",
   "name": "python",
   "nbconvert_exporter": "python",
   "pygments_lexer": "ipython3",
   "version": "3.8.5"
  },
  "orig_nbformat": 4
 },
 "nbformat": 4,
 "nbformat_minor": 2
}
