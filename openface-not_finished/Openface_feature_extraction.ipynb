{
 "cells": [
  {
   "cell_type": "code",
   "execution_count": 1,
   "metadata": {},
   "outputs": [],
   "source": [
    "import os\n",
    "from tqdm import tqdm\n",
    "from time import time"
   ]
  },
  {
   "cell_type": "code",
   "execution_count": 4,
   "metadata": {},
   "outputs": [],
   "source": [
    "data_dir = r'C:\\Users\\User\\Downloads\\RealLifeDeceptionDetection.2016\\Real-life_Deception_Detection_2016\\Frames'"
   ]
  },
  {
   "cell_type": "code",
   "execution_count": 6,
   "metadata": {},
   "outputs": [
    {
     "name": "stdout",
     "output_type": "stream",
     "text": [
      "trial_lie_001 - 18.607518196105957\n",
      "trial_lie_002 - 67.36944317817688\n",
      "trial_lie_003 - 10.310274600982666\n",
      "trial_lie_004 - 12.128585577011108\n",
      "trial_lie_005 - 52.96065068244934\n",
      "trial_lie_006 - 23.70685577392578\n",
      "trial_lie_007 - 61.560378551483154\n",
      "trial_lie_008 - 11.214016437530518\n",
      "trial_lie_009 - 26.137694358825684\n",
      "trial_lie_010 - 41.36783456802368\n",
      "trial_lie_011 - 50.90489387512207\n",
      "trial_lie_012 - 15.374959707260132\n",
      "trial_lie_013 - 26.96923542022705\n",
      "trial_lie_014 - 17.499956607818604\n",
      "trial_lie_015 - 41.456111669540405\n",
      "trial_lie_016 - 44.55586528778076\n",
      "trial_lie_017 - 52.279091596603394\n",
      "trial_lie_018 - 42.416834592819214\n",
      "trial_lie_019 - 44.90289545059204\n",
      "trial_lie_020 - 16.92110276222229\n",
      "trial_lie_021 - 24.61582851409912\n",
      "trial_lie_022 - 51.64229488372803\n",
      "trial_lie_023 - 55.28366780281067\n",
      "trial_lie_024 - 33.18217635154724\n",
      "trial_lie_025 - 37.03586983680725\n",
      "trial_lie_026 - 37.43209624290466\n",
      "trial_lie_027 - 34.381561279296875\n",
      "trial_lie_028 - 30.820271492004395\n",
      "trial_lie_029 - 24.170794248580933\n",
      "trial_lie_030 - 45.82581090927124\n",
      "trial_lie_031 - 32.00707173347473\n",
      "trial_lie_032 - 19.20969009399414\n",
      "trial_lie_033 - 33.401092529296875\n",
      "trial_lie_034 - 21.60213828086853\n",
      "trial_lie_035 - 11.065929651260376\n",
      "trial_lie_036 - 39.11797881126404\n",
      "trial_lie_037 - 19.698031663894653\n",
      "trial_lie_038 - 18.537842988967896\n",
      "trial_lie_039 - 24.046724319458008\n",
      "trial_lie_040 - 18.72724485397339\n",
      "trial_lie_041 - 23.282965183258057\n",
      "trial_lie_042 - 21.260103225708008\n",
      "trial_lie_043 - 13.782882452011108\n",
      "trial_lie_044 - 9.326749801635742\n",
      "trial_lie_045 - 31.209851264953613\n",
      "trial_lie_046 - 27.650020599365234\n",
      "trial_lie_047 - 14.580034494400024\n",
      "trial_lie_048 - 41.69523644447327\n",
      "trial_lie_049 - 20.549643516540527\n",
      "trial_lie_050 - 32.7649781703949\n",
      "trial_lie_051 - 8.84016466140747\n",
      "trial_lie_052 - 43.57005715370178\n",
      "trial_lie_053 - 17.900760412216187\n",
      "trial_lie_054 - 21.11968207359314\n",
      "trial_lie_055 - 28.92755889892578\n",
      "trial_lie_056 - 29.203072547912598\n",
      "trial_lie_057 - 15.528882503509521\n",
      "trial_lie_058 - 20.651030778884888\n",
      "trial_lie_059 - 35.72913837432861\n",
      "trial_lie_060 - 40.2106659412384\n",
      "trial_lie_061 - 26.193179607391357\n",
      "C:\\Users\\User\\Downloads\\RealLifeDeceptionDetection.2016\\Real-life_Deception_Detection_2016\\Frames\\Deceptive\n"
     ]
    }
   ],
   "source": [
    "def extract_openface_features(dirname, outdir):\n",
    "    # print(dirname)\n",
    "    if not os.path.exists(outdir):\n",
    "        os.makedirs(outdir)\n",
    "    os.chdir(dirname)\n",
    "    for filename in os.listdir('.'):\n",
    "        start = time()\n",
    "        command='C:/Users/User/Downloads/OpenFace_2.2.0_win_x64/OpenFace_2.2.0_win_x64/FeatureExtraction.exe -pose -aus -gaze -out_dir '+outdir\n",
    "    \n",
    "        if filename.lower().endswith('ini'):\n",
    "            continue\n",
    "        \n",
    "        command+=' -fdir '+filename\n",
    "        \n",
    "        os.system(command=command)\n",
    "        print(filename, '-', time() - start)\n",
    "\n",
    "cur_dir=os.getcwd()\n",
    "# extract_openface_features(os.path.join(data_dir,'Truthful'),os.path.join(data_dir,'Openface_features'))\n",
    "extract_openface_features(os.path.join(data_dir,'Deceptive'), os.path.join(data_dir,'Openface_features'))\n",
    "os.chdir(cur_dir)\n",
    "print(os.getcwd())\n"
   ]
  }
 ],
 "metadata": {
  "interpreter": {
   "hash": "f08154012ddadd8e950e6e9e035c7a7b32c136e7647e9b7c77e02eb723a8bedb"
  },
  "kernelspec": {
   "display_name": "Python 3.8.5 ('base')",
   "language": "python",
   "name": "python3"
  },
  "language_info": {
   "codemirror_mode": {
    "name": "ipython",
    "version": 3
   },
   "file_extension": ".py",
   "mimetype": "text/x-python",
   "name": "python",
   "nbconvert_exporter": "python",
   "pygments_lexer": "ipython3",
   "version": "3.8.5"
  },
  "orig_nbformat": 4
 },
 "nbformat": 4,
 "nbformat_minor": 2
}
