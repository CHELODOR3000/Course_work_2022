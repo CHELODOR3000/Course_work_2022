{
  "cells": [
    {
      "cell_type": "code",
      "execution_count": null,
      "metadata": {},
      "outputs": [],
      "source": [
        "!pip install timm=0.4.5"
      ]
    },
    {
      "cell_type": "code",
      "execution_count": 1,
      "metadata": {
        "id": "_HJTFP4pPGKW"
      },
      "outputs": [],
      "source": [
        "import os\n",
        "from PIL import Image\n",
        "import cv2\n",
        "import numpy as np\n",
        "from tqdm import tqdm\n",
        "import pickle\n",
        "import matplotlib.pyplot as plt\n",
        "import facenet_pytorch\n",
        "import timm\n",
        "import ffmpeg\n",
        "import zipfile\n",
        "import torch\n",
        "from PIL import Image\n",
        "from torchvision import transforms\n",
        "from skimage import transform as trans\n"
      ]
    },
    {
      "cell_type": "markdown",
      "metadata": {
        "id": "uQhmeKF5gzah"
      },
      "source": [
        "### Unzip data"
      ]
    },
    {
      "cell_type": "code",
      "execution_count": null,
      "metadata": {
        "id": "hG_sWvMhPGP9"
      },
      "outputs": [],
      "source": [
        "zip_data = '/content/drive/MyDrive/Reallife_Deception_Detection/RealLifeDeceptionDetection.2016.zip'"
      ]
    },
    {
      "cell_type": "code",
      "execution_count": null,
      "metadata": {
        "id": "IeHlLEKTPGSw"
      },
      "outputs": [],
      "source": [
        "import zipfile\n",
        "\n",
        "z = zipfile.ZipFile(zip_data, 'r')\n",
        "z.extractall('/content/drive/MyDrive/Reallife_Deception_Detection/')"
      ]
    },
    {
      "cell_type": "markdown",
      "metadata": {
        "id": "w-SqmH-cg6SW"
      },
      "source": [
        "### Get frames"
      ]
    },
    {
      "cell_type": "code",
      "execution_count": null,
      "metadata": {
        "id": "4NfovtFCZyUD",
        "outputId": "b8f81b46-6c5a-4313-e825-936b191e1f1a"
      },
      "outputs": [
        {
          "name": "stdout",
          "output_type": "stream",
          "text": [
            "C:\\Users\\User\\Downloads\\RealLifeDeceptionDetection.2016\\Real-life_Deception_Detection_2016\\Clips\n"
          ]
        }
      ],
      "source": [
        "data_dir = \"C:/Users/User/Downloads/RealLifeDeceptionDetection.2016/Real-life_Deception_Detection_2016/Clips\"\n",
        "dirr = os.path.normpath(data_dir) \n",
        "print(dirr)"
      ]
    },
    {
      "cell_type": "code",
      "execution_count": null,
      "metadata": {
        "id": "LALnnDxIPGVY"
      },
      "outputs": [],
      "source": [
        "def process_dir(dirname):\n",
        "    resdir = \"C:/Users/User/Downloads/RealLifeDeceptionDetection.2016/Real-life_Deception_Detection_2016/Frames\"\n",
        "    d = os.path.normpath(os.path.join(data_dir, dirname))\n",
        "    for filename in tqdm(os.listdir(d)):\n",
        "        '''if filename.lower().endswith('ini'):\n",
        "            continue'''\n",
        "        if os.path.isdir(os.path.normpath(os.path.join(d,filename))):\n",
        "            videofile=None\n",
        "            for fn in os.listdir(os.path.normpath(os.path.join(d,filename))):\n",
        "                '''if fn.lower().endswith('ini'):\n",
        "                    continue'''\n",
        "                videofile=fn\n",
        "            if videofile is None:\n",
        "                continue\n",
        "            filename=os.path.normpath(os.path.join(filename,videofile))\n",
        "        fn, ext = os.path.splitext(os.path.basename(filename))\n",
        "        outdir=os.path.normpath(os.path.join(resdir,dirname,fn))\n",
        "        if not os.path.exists(outdir):\n",
        "            os.makedirs(outdir)\n",
        "        command = \"ffmpeg -r 1 -i \"+os.path.join(d,filename) + \" -r 1 \"+outdir+\"/%05d.png\"\n",
        "        command = os.path.normpath(command)\n",
        "        os.system(command=command)"
      ]
    },
    {
      "cell_type": "code",
      "execution_count": null,
      "metadata": {
        "colab": {
          "base_uri": "https://localhost:8080/"
        },
        "id": "ACyObaAzvUvl",
        "outputId": "390175f8-4e3a-48fd-8dd0-0b42fde6aef9"
      },
      "outputs": [
        {
          "name": "stderr",
          "output_type": "stream",
          "text": [
            "100%|██████████| 60/60 [08:39<00:00,  8.66s/it]\n"
          ]
        }
      ],
      "source": [
        "process_dir('Truthful')"
      ]
    },
    {
      "cell_type": "code",
      "execution_count": null,
      "metadata": {
        "colab": {
          "base_uri": "https://localhost:8080/"
        },
        "id": "jtB9gUZFY4HK",
        "outputId": "46a21c04-24c4-4885-fbd8-4f7ce162873c"
      },
      "outputs": [
        {
          "name": "stderr",
          "output_type": "stream",
          "text": [
            "100%|██████████| 61/61 [16:16<00:00, 16.00s/it]\n"
          ]
        }
      ],
      "source": [
        "process_dir('Deceptive')"
      ]
    },
    {
      "cell_type": "markdown",
      "metadata": {
        "id": "Ej2mgWRQWhKo"
      },
      "source": [
        "### Detect faces in frames"
      ]
    },
    {
      "cell_type": "code",
      "execution_count": null,
      "metadata": {},
      "outputs": [],
      "source": [
        "from facenet_pytorch import MTCNN # pretrained model for image recognition\n",
        "mtcnn = MTCNN(keep_all=True, min_face_size=40, device=device)"
      ]
    },
    {
      "cell_type": "code",
      "execution_count": null,
      "metadata": {},
      "outputs": [],
      "source": [
        "from facial_analysis import FacialImageProcessing\n",
        "imgProcessing=FacialImageProcessing(False)"
      ]
    },
    {
      "cell_type": "code",
      "execution_count": null,
      "metadata": {},
      "outputs": [],
      "source": [
        "data_dir = 'C:/Users/User/Downloads/RealLifeDeceptionDetection.2016/Real-life_Deception_Detection_2016'"
      ]
    },
    {
      "cell_type": "code",
      "execution_count": 42,
      "metadata": {
        "colab": {
          "base_uri": "https://localhost:8080/"
        },
        "id": "n4Wh5d0gWhKp",
        "outputId": "77527017-f033-4c56-e4b3-3a664c0aa2d2"
      },
      "outputs": [
        {
          "name": "stdout",
          "output_type": "stream",
          "text": [
            "Torch: 1.9.1\n",
            "True\n"
          ]
        }
      ],
      "source": [
        "print(f\"Torch: {torch.__version__}\")\n",
        "# device = 'cuda:0'\n",
        "device = 'cpu'\n",
        "use_cuda = torch.cuda.is_available()\n",
        "print(use_cuda)"
      ]
    },
    {
      "cell_type": "code",
      "execution_count": 3,
      "metadata": {
        "id": "wOJEdVlmWhKq"
      },
      "outputs": [],
      "source": [
        "def get_iou(bb1, bb2):\n",
        "    \"\"\"\n",
        "    Calculate the Intersection over Union (IoU) of two bounding boxes.\n",
        "\n",
        "    Parameters\n",
        "    ----------\n",
        "    bb1 : array\n",
        "        order: {'x1', 'y1', 'x2', 'y2'}\n",
        "        The (x1, y1) position is at the top left corner,\n",
        "        the (x2, y2) position is at the bottom right corner\n",
        "    bb2 : array\n",
        "        order: {'x1', 'y1', 'x2', 'y2'}\n",
        "        The (x1, y1) position is at the top left corner,\n",
        "        the (x2, y2) position is at the bottom right corner\n",
        "\n",
        "    Returns\n",
        "    -------\n",
        "    float\n",
        "        in [0, 1]\n",
        "    \"\"\"\n",
        "\n",
        "    # determine the coordinates of the intersection rectangle\n",
        "    x_left = max(bb1[0], bb2[0])\n",
        "    y_top = max(bb1[1], bb2[1])\n",
        "    x_right = min(bb1[2], bb2[2])\n",
        "    y_bottom = min(bb1[3], bb2[3])\n",
        "\n",
        "    if x_right < x_left or y_bottom < y_top:\n",
        "        return 0.0\n",
        "\n",
        "    # The intersection of two axis-aligned bounding boxes is always an\n",
        "    # axis-aligned bounding box\n",
        "    intersection_area = (x_right - x_left) * (y_bottom - y_top)\n",
        "\n",
        "    # compute the area of both AABBs\n",
        "    bb1_area = (bb1[2] - bb1[0]) * (bb1[3] - bb1[1])\n",
        "    bb2_area = (bb2[2] - bb2[0]) * (bb2[3] - bb2[1])\n",
        "\n",
        "    # compute the intersection over union by taking the intersection\n",
        "    # area and dividing it by the sum of prediction + ground-truth\n",
        "    # areas - the interesection area\n",
        "    iou = intersection_area / float(bb1_area + bb2_area - intersection_area)\n",
        "    return iou\n",
        "\n",
        "#print(get_iou([10,10,20,20],[15,15,25,25]))\n",
        "\n",
        "def preprocess(img, bbox=None, landmark=None, **kwargs):\n",
        "    M = None\n",
        "    image_size = [224,224]\n",
        "    src = np.array([\n",
        "      [30.2946, 51.6963],\n",
        "      [65.5318, 51.5014],\n",
        "      [48.0252, 71.7366],\n",
        "      [33.5493, 92.3655],\n",
        "      [62.7299, 92.2041] ], dtype=np.float32 )\n",
        "    if image_size[1]==224:\n",
        "        src[:,0] += 8.0\n",
        "    src*=2\n",
        "    if landmark is not None:\n",
        "        dst = landmark.astype(np.float32)\n",
        "\n",
        "        tform = trans.SimilarityTransform()\n",
        "        #dst=dst[:3]\n",
        "        #src=src[:3]\n",
        "        #print(dst.shape,src.shape,dst,src)\n",
        "        tform.estimate(dst, src)\n",
        "        M = tform.params[0:2,:]\n",
        "        #M = cv2.estimateRigidTransform( dst.reshape(1,5,2), src.reshape(1,5,2), False)\n",
        "        #print(M)\n",
        "\n",
        "    if M is None:\n",
        "        if bbox is None: #use center crop\n",
        "            det = np.zeros(4, dtype=np.int32)\n",
        "            det[0] = int(img.shape[1]*0.0625)\n",
        "            det[1] = int(img.shape[0]*0.0625)\n",
        "            det[2] = img.shape[1] - det[0]\n",
        "            det[3] = img.shape[0] - det[1]\n",
        "        else:\n",
        "              det = bbox\n",
        "        margin = kwargs.get('margin', 44)\n",
        "        bb = np.zeros(4, dtype=np.int32)\n",
        "        bb[0] = np.maximum(det[0]-margin//2, 0)\n",
        "        bb[1] = np.maximum(det[1]-margin//2, 0)\n",
        "        bb[2] = np.minimum(det[2]+margin//2, img.shape[1])\n",
        "        bb[3] = np.minimum(det[3]+margin//2, img.shape[0])\n",
        "        ret = img[bb[1]:bb[3],bb[0]:bb[2],:]\n",
        "        if len(image_size)>0:\n",
        "              ret = cv2.resize(ret, (image_size[1], image_size[0]))\n",
        "        return ret \n",
        "    else: #do align using landmark\n",
        "        assert len(image_size)==2\n",
        "        warped = cv2.warpAffine(img,M,(image_size[1],image_size[0]), borderValue = 0.0)\n",
        "        return warped\n"
      ]
    },
    {
      "cell_type": "markdown",
      "metadata": {
        "id": "KL16vH_qoef-"
      },
      "source": [
        "### Detect and save faces in frames"
      ]
    },
    {
      "cell_type": "code",
      "execution_count": 8,
      "metadata": {
        "colab": {
          "base_uri": "https://localhost:8080/",
          "referenced_widgets": [
            "d4c58150132645cc88f121bb5943a346",
            "25b99201bce8440cb5b57ff07870dc5d",
            "6ab12cca197a4f53ab4263f7fcd99d5a",
            "ef9cbbadb5614c669bc77fde93312b75",
            "4b214164cb5b4a9c85f5cfc0c266ac22",
            "cb88d845de6b4f6eb3bfa49b5159aac9",
            "4fbc0a0baaab437b82011fdcf5d39318",
            "6ea00e065caa47899c47ccd784e1a945",
            "e6595e2d1ce642c69d895b224b5a8fd7",
            "5ecb2b8d343b47cc8b8aaf3dcac34229",
            "8b0cbd725e6d46aaa3800d09bf59db26"
          ]
        },
        "id": "yTG1NyjGoiGy",
        "outputId": "164ba571-68e5-4a40-92f4-1de59a655df0"
      },
      "outputs": [],
      "source": [
        "INPUT_SIZE = (224,224)\n",
        "def save_faces(source_path,save_path):\n",
        "    if not os.path.exists(save_path):\n",
        "        os.makedirs(save_path)\n",
        "    for folder in tqdm(os.listdir(source_path)):\n",
        "        if not os.path.exists(os.path.join(save_path, folder)):\n",
        "            os.mkdir(os.path.join(save_path, folder))\n",
        "\n",
        "            for image in os.listdir(os.path.join(source_path, folder)):\n",
        "                filename = os.path.join(source_path, folder, image)\n",
        "                frame_bgr = cv2.imread(filename)\n",
        "                frame = cv2.cvtColor(frame_bgr, cv2.COLOR_BGR2RGB)\n",
        "                bounding_boxes, _ = imgProcessing.detect_faces(frame)\n",
        "\n",
        "                if len(bounding_boxes)==0:\n",
        "                    print('No faces found for ',filename)\n",
        "                    face_img = frame_bgr\n",
        "                    faceFound='noface'\n",
        "                else:\n",
        "                    if len(bounding_boxes)>1:\n",
        "                        print('Too many faces (',len(bounding_boxes),') found for ',filename)\n",
        "                        bounding_boxes=bounding_boxes[:1]\n",
        "\n",
        "                    b=[int(bi) for bi in bounding_boxes[0]]\n",
        "                    x1,y1,x2,y2=b[0:4]\n",
        "                    face_img=frame_bgr[y1:y2,x1:x2,:]\n",
        "\n",
        "                    if np.prod(face_img.shape)==0:\n",
        "                        print('Empty face ',b,' found for ',filename)\n",
        "                        continue\n",
        "                    \n",
        "                    faceFound=''\n",
        "\n",
        "                #face_img=cv2.resize(face_img,INPUT_SIZE)\n",
        "                root,ext=os.path.splitext(image)\n",
        "                cv2.imwrite(os.path.join(save_path, folder, root+faceFound+ext), face_img) \n",
        "        else:\n",
        "            print(folder)"
      ]
    },
    {
      "cell_type": "code",
      "execution_count": null,
      "metadata": {},
      "outputs": [],
      "source": [
        "save_faces(os.path.normpath(os.path.join(data_dir,'Frames/Truthful')),\n",
        "os.path.normpath(os.path.join(data_dir,'Faces/mtcnn_cropped/Train/')))"
      ]
    },
    {
      "cell_type": "code",
      "execution_count": null,
      "metadata": {},
      "outputs": [],
      "source": [
        "save_faces(os.path.join(data_dir,'Frames/Deceptive'),os.path.join(data_dir,'Faces/mtcnn_cropped/Train/'))"
      ]
    },
    {
      "cell_type": "markdown",
      "metadata": {
        "id": "k6Mj6zb7rlJP"
      },
      "source": [
        "### Detect, align and save faces in frames"
      ]
    },
    {
      "cell_type": "code",
      "execution_count": null,
      "metadata": {
        "colab": {
          "base_uri": "https://localhost:8080/",
          "referenced_widgets": [
            "3910f210078f4332a93091774ef20493",
            "f8a7a1aed60246b89f1addb61c5a0f1d",
            "4881fb12783c4077bfe347bbdd218281",
            "bf39e2dbe8d3420ca5073973ad2af0ac",
            "71cb606bfdef46b7935b1a1b6d89e77d",
            "057d5e47d99b47dd99b59015066b69a2",
            "886e9da42d654f938ec9557e747bd7c3",
            "802738dbaf9f4325829996922102b485",
            "16fb2c2f46f0418591344b830ebcd54b",
            "da019452135d4fe3a0059699e3075bf8",
            "8deb31fd3f254a908731bcba9f80e6aa"
          ]
        },
        "id": "enJT9MOQrn-r",
        "outputId": "bbb24a79-2ae7-4b9e-b6e3-ede10b0ee750"
      },
      "outputs": [],
      "source": [
        "def save_aligned_faces(source_path,save_path):\n",
        "    if not os.path.exists(save_path):\n",
        "        os.makedirs(save_path)\n",
        "\n",
        "    for folder in tqdm(os.listdir(source_path)):\n",
        "        if not os.path.exists(os.path.join(save_path, folder)):\n",
        "            os.mkdir(os.path.join(save_path, folder))\n",
        "\n",
        "            prev_b = None\n",
        "            counter = 0\n",
        "\n",
        "            for image in sorted(os.listdir(os.path.join(source_path, folder))):\n",
        "                filename = os.path.join(source_path, folder, image)\n",
        "                frame = cv2.imread(filename)\n",
        "                frame = cv2.cvtColor(frame, cv2.COLOR_BGR2RGB)\n",
        "                bounding_boxes, points = imgProcessing.detect_faces(frame)\n",
        "                points = points.T\n",
        "\n",
        "                best_ind=None\n",
        "                if len(bounding_boxes)==0:\n",
        "                    print('No faces found for ',filename)\n",
        "                    counter+=1\n",
        "                    if prev_b is None or counter>3:\n",
        "                        continue\n",
        "                    else:\n",
        "                        b=prev_b\n",
        "                elif len(bounding_boxes)>1:\n",
        "                    print('Too many faces (', len(bounding_boxes), ') found for ',filename)\n",
        "                    if prev_b is None:\n",
        "                        #continue\n",
        "                        best_ind=0\n",
        "                        b=[int(bi) for bi in bounding_boxes[best_ind]]\n",
        "                        counter=0\n",
        "                    else:\n",
        "                        best_iou=0\n",
        "                        for i in range(len(bounding_boxes)):\n",
        "                            iou=get_iou(bounding_boxes[i],prev_b)\n",
        "                            if iou>best_iou:\n",
        "                                best_iou=iou\n",
        "                                best_ind=i\n",
        "                        if best_iou>0:\n",
        "                            b=[int(bi) for bi in bounding_boxes[best_ind]]\n",
        "                            print('best_iou (',best_iou,') best_bb ',bounding_boxes[best_ind])\n",
        "                        else:\n",
        "                            #continue\n",
        "                            best_ind=0\n",
        "                            b=[int(bi) for bi in bounding_boxes[best_ind]]\n",
        "                            counter=0\n",
        "                else:\n",
        "                    best_ind=0\n",
        "                    b=[int(bi) for bi in bounding_boxes[best_ind]]\n",
        "                    counter=0\n",
        "                prev_b=b\n",
        "\n",
        "                if True:\n",
        "                    p=None\n",
        "                    if best_ind is not None:\n",
        "                        p=points[best_ind]\n",
        "                        if True: #not USE_RETINA_FACE:\n",
        "                            p = p.reshape((2,5)).T\n",
        "                    face_img=preprocess(frame,b,None) #p)\n",
        "                else:\n",
        "                    x1,y1,x2,y2=b[0:4]\n",
        "                    face_img=frame[y1:y2,x1:x2,:]\n",
        "                if np.prod(face_img.shape)==0:\n",
        "                    print('Empty face ',b,' found for ',filename)\n",
        "                    continue\n",
        "\n",
        "                cv2.imwrite(os.path.join(save_path, folder, image), cv2.cvtColor(face_img, cv2.COLOR_RGB2BGR)) \n",
        "\n",
        "#aligned\n",
        "save_aligned_faces(os.path.join(data_dir, 'Train'), os.path.join(data_dir, 'faces/mtcnn_aligned/Train/'))"
      ]
    },
    {
      "cell_type": "markdown",
      "metadata": {
        "id": "b6K-bkx8cJNc"
      },
      "source": [
        "### Extract features from frames"
      ]
    },
    {
      "cell_type": "code",
      "execution_count": 33,
      "metadata": {
        "id": "qtI8lbVaf9PZ"
      },
      "outputs": [],
      "source": [
        "data_dir = r'C:\\Users\\User\\Downloads\\RealLifeDeceptionDetection.2016\\Real-life_Deception_Detection_2016'"
      ]
    },
    {
      "cell_type": "code",
      "execution_count": 34,
      "metadata": {},
      "outputs": [],
      "source": [
        "emotion_ind2label={0: 'Anger', 1: 'Contempt', 2: 'Disgust', 3: 'Fear', 4: 'Happiness', 5: 'Neutral', 6: 'Sadness', 7: 'Surprise'}"
      ]
    },
    {
      "cell_type": "code",
      "execution_count": 43,
      "metadata": {},
      "outputs": [],
      "source": [
        "# pretrained models for emotion recognition\n",
        "if False:\n",
        "    model_name='enet_b2_8'\n",
        "    IMG_SIZE=260 #224 \n",
        "else:\n",
        "    model_name='enet_b0_8_best_afew'\n",
        "    IMG_SIZE=224\n",
        "PATH='C:/Users/User/Downloads/face-emotion-recognition-main/face-emotion-recognition-main/models/affectnet_emotions/enet_b2_8.pt'\n",
        "test_transforms = transforms.Compose(\n",
        "    [\n",
        "        transforms.Resize((IMG_SIZE,IMG_SIZE)),\n",
        "        #transforms.RandomHorizontalFlip(),\n",
        "        transforms.ToTensor(),\n",
        "        transforms.Normalize(mean=[0.485, 0.456, 0.406],\n",
        "                                     std=[0.229, 0.224, 0.225])\n",
        "    ]\n",
        ")\n",
        "np_transforms = transforms.Compose(\n",
        "    [\n",
        "        transforms.ToPILImage(None),\n",
        "        transforms.Resize((IMG_SIZE,IMG_SIZE)),\n",
        "        #transforms.RandomHorizontalFlip(),\n",
        "        transforms.ToTensor(),\n",
        "        transforms.Normalize(mean=[0.485, 0.456, 0.406],\n",
        "                                     std=[0.229, 0.224, 0.225])\n",
        "    ]\n",
        ")\n",
        "\n",
        "feature_extractor_model = torch.load(PATH)"
      ]
    },
    {
      "cell_type": "code",
      "execution_count": null,
      "metadata": {},
      "outputs": [],
      "source": [
        "classifier_weights=feature_extractor_model.classifier.weight.cpu().data.numpy()\n",
        "classifier_bias=feature_extractor_model.classifier.bias.cpu().data.numpy()\n",
        "print(classifier_weights.shape,classifier_weights)\n",
        "print(classifier_bias.shape,classifier_bias)"
      ]
    },
    {
      "cell_type": "code",
      "execution_count": null,
      "metadata": {},
      "outputs": [],
      "source": [
        "feature_extractor_model.classifier=torch.nn.Identity()\n",
        "feature_extractor_model.eval()"
      ]
    },
    {
      "cell_type": "code",
      "execution_count": null,
      "metadata": {
        "id": "6ABCgkzXf8pe"
      },
      "outputs": [],
      "source": [
        "compare_filenames=lambda x: int(os.path.splitext(x)[0])\n",
        "feature_extractor_model.to(device)"
      ]
    },
    {
      "cell_type": "code",
      "execution_count": null,
      "metadata": {
        "colab": {
          "base_uri": "https://localhost:8080/",
          "height": 136,
          "referenced_widgets": [
            "2351aff55da545988a54cfbece103fe1",
            "9310cf13b5404ada80fb3c73638371d8",
            "cf9bd841b15242b5be0eb81bbeaf0439",
            "10894323b5e7440e926ff15aa2ebdc9b",
            "c771d02fcb7e4b078a53f31a7942f1f6",
            "ebd59f44496d4cabbb6627d76a44e8b2",
            "67e5f91b1c2a41d895a238228e18852f",
            "80a9aacd756d4f3bbd7d7adbe0bc9fd9",
            "4bb98ea39d6a4593a85918d7c62592e1",
            "864e62e7706b4851948a41052b6c47bd",
            "2bc90b4aa54c4d879934a73afd8c51f0"
          ]
        },
        "id": "HPtp2qiXcN0f",
        "outputId": "7fb97006-6c29-411c-9d22-bcfffb0c4a47"
      },
      "outputs": [],
      "source": [
        "import pickle\n",
        "USE_ALL_FEATURES=False\n",
        "\n",
        "MODEL2EMOTIW_FEATURES='C:/Users/User/Downloads/'+'enet_b2_8'+'_cropped.pickle'\n",
        "\n",
        "def get_features(data_dir):\n",
        "    filename2features={}\n",
        "    for filename in tqdm(os.listdir(data_dir)):\n",
        "        frames_dir=os.path.join(data_dir,filename)\n",
        "        X_global_features=[]\n",
        "        imgs=[]\n",
        "        faces_only=[fn for fn in os.listdir(frames_dir) if 'noface' not in fn]\n",
        "        for img_name in sorted(faces_only, key=compare_filenames):\n",
        "            img = Image.open(os.path.join(frames_dir,img_name))\n",
        "            img_tensor = test_transforms(img)\n",
        "            if img.size:\n",
        "                imgs.append(img_tensor)\n",
        "                if len(imgs)>=32:        \n",
        "                    features = feature_extractor_model(torch.stack(imgs, dim=0)) #.to(device)\n",
        "                    features=features.data.cpu().numpy()\n",
        "                    #print(features.shape)\n",
        "\n",
        "                    if len(X_global_features)==0:\n",
        "                        X_global_features=features\n",
        "                    else:\n",
        "                        X_global_features=np.concatenate((X_global_features,features),axis=0)\n",
        "\n",
        "                    imgs=[]\n",
        "            \n",
        "\n",
        "        if len(imgs)>0:        \n",
        "            features = feature_extractor_model(torch.stack(imgs, dim=0)) #.to(device)\n",
        "            features=features.data.cpu().numpy()\n",
        "            #print(features.shape)\n",
        "\n",
        "            if len(X_global_features)==0:\n",
        "                X_global_features=features\n",
        "            else:\n",
        "                X_global_features=np.concatenate((X_global_features,features),axis=0)\n",
        "\n",
        "            imgs=[]\n",
        "\n",
        "        #print(X_global_features.shape,X_feats.shape,X_scores.shape)\n",
        "        filename2features[filename]=X_global_features\n",
        "    return filename2features\n",
        " \n",
        "print(test_transforms)\n",
        "filename2features=get_features(os.path.join(data_dir, 'Faces/mtcnn_cropped/Train')) #_cropped\n",
        "\n",
        "if True:\n",
        "    with open(MODEL2EMOTIW_FEATURES, 'wb') as handle:\n",
        "        pickle.dump(filename2features, handle, protocol=pickle.HIGHEST_PROTOCOL)\n",
        "        print(handle) "
      ]
    },
    {
      "cell_type": "markdown",
      "metadata": {
        "id": "W6dK9rysaXKt"
      },
      "source": [
        "### Save/load features"
      ]
    },
    {
      "cell_type": "code",
      "execution_count": 32,
      "metadata": {
        "colab": {
          "base_uri": "https://localhost:8080/"
        },
        "id": "8voOo9EJXUGn",
        "outputId": "73f1ff69-b4f7-4f4b-c886-a217fef48f14"
      },
      "outputs": [
        {
          "name": "stdout",
          "output_type": "stream",
          "text": [
            "C:/Users/User/Downloads/enet_b2_8_cropped.pickle\n"
          ]
        }
      ],
      "source": [
        "import pickle\n",
        "USE_ALL_FEATURES=False\n",
        "\n",
        "MODEL2EMOTIW_FEATURES='C:/Users/User/Downloads/'+'enet_b2_8'+'_cropped.pickle' #'_feat_bgr_emotiw.pickle'\n",
        "#MODEL2EMOTIW_FEATURES=model_name+'_cropped.pickle'\n",
        "#MODEL2EMOTIW_FEATURES='enet0_vggface2_pt_feat_emotiw.pickle'\n",
        "#MODEL2EMOTIW_FEATURES='enet0_affectnet_7_vggface2_new_pt_scores_emotiw.pickle'\n",
        "\n",
        "print(MODEL2EMOTIW_FEATURES)\n",
        "\n",
        "if True:\n",
        "    with open(MODEL2EMOTIW_FEATURES, 'wb') as handle:\n",
        "        pickle.dump(filename2features, handle, protocol=pickle.HIGHEST_PROTOCOL)\n",
        "        print(handle)\n",
        "        "
      ]
    },
    {
      "cell_type": "code",
      "execution_count": 35,
      "metadata": {
        "colab": {
          "base_uri": "https://localhost:8080/"
        },
        "id": "Y14XFbVzXT8F",
        "outputId": "6750dc60-3a49-40a2-f5a5-6166af6b80e4"
      },
      "outputs": [
        {
          "name": "stdout",
          "output_type": "stream",
          "text": [
            "<_io.BufferedWriter name='C:/Users/User/Downloads/enet_b2_8_cropped.pickle'>\n"
          ]
        }
      ],
      "source": [
        "if True:\n",
        "    with open(MODEL2EMOTIW_FEATURES, 'wb') as handle:\n",
        "        pickle.dump(filename2features, handle, protocol=pickle.HIGHEST_PROTOCOL)\n",
        "        print(handle)"
      ]
    },
    {
      "cell_type": "code",
      "execution_count": null,
      "metadata": {
        "colab": {
          "base_uri": "https://localhost:8080/"
        },
        "id": "bXF-4cEtUbyU",
        "outputId": "f8b1257e-5740-4899-f55c-7e73cae501b7"
      },
      "outputs": [
        {
          "name": "stdout",
          "output_type": "stream",
          "text": [
            "1\n"
          ]
        }
      ],
      "source": [
        "with open(MODEL2EMOTIW_FEATURES, 'rb') as handle:\n",
        "    filename2features=pickle.load(handle)\n",
        "print(len(filename2features))"
      ]
    },
    {
      "cell_type": "markdown",
      "metadata": {
        "id": "wUxtiicxal-O"
      },
      "source": [
        "### Visualize"
      ]
    },
    {
      "cell_type": "code",
      "execution_count": null,
      "metadata": {
        "colab": {
          "base_uri": "https://localhost:8080/"
        },
        "id": "G0p0QQpGUbwu",
        "outputId": "c0d4d239-93aa-409f-a9dd-2a7a44dfbca5"
      },
      "outputs": [
        {
          "data": {
            "text/plain": [
              "dict_keys(['trial_truth_001'])"
            ]
          },
          "execution_count": 26,
          "metadata": {},
          "output_type": "execute_result"
        }
      ],
      "source": [
        "filename2features.keys()"
      ]
    },
    {
      "cell_type": "code",
      "execution_count": null,
      "metadata": {
        "colab": {
          "base_uri": "https://localhost:8080/"
        },
        "id": "R24vpR5FtwUQ",
        "outputId": "629c91d0-2faa-44c7-8649-f577da6ac3ef"
      },
      "outputs": [
        {
          "data": {
            "text/plain": [
              "dict_values([array([[-0.06401782, -0.04885245,  0.02150394, ..., -0.12668344,\n",
              "         0.01073062,  0.11142603],\n",
              "       [-0.03683417, -0.04172684,  0.03507093, ..., -0.09923614,\n",
              "         0.03342783,  0.15224949],\n",
              "       [-0.02226895, -0.06112549,  0.08065169, ..., -0.0428613 ,\n",
              "         0.03594201,  0.10893276],\n",
              "       ...,\n",
              "       [-0.10207114, -0.08624563,  0.18507832, ..., -0.20232072,\n",
              "        -0.02323659,  0.05735747],\n",
              "       [-0.10217407, -0.06134406,  0.21751443, ..., -0.20869987,\n",
              "        -0.06940581,  0.09559384],\n",
              "       [-0.10126583, -0.06322059,  0.21542992, ..., -0.20295537,\n",
              "        -0.11825134,  0.00921442]], dtype=float32)])"
            ]
          },
          "execution_count": 50,
          "metadata": {},
          "output_type": "execute_result"
        }
      ],
      "source": [
        "filename2features.values()"
      ]
    },
    {
      "cell_type": "code",
      "execution_count": null,
      "metadata": {
        "colab": {
          "base_uri": "https://localhost:8080/"
        },
        "id": "24q2qYKYtwLF",
        "outputId": "a2826341-6df3-4d36-90a0-94b047528c5d"
      },
      "outputs": [
        {
          "data": {
            "text/plain": [
              "array([[-0.06401782, -0.04885245,  0.02150394, ..., -0.12668344,\n",
              "         0.01073062,  0.11142603],\n",
              "       [-0.03683417, -0.04172684,  0.03507093, ..., -0.09923614,\n",
              "         0.03342783,  0.15224949],\n",
              "       [-0.02226895, -0.06112549,  0.08065169, ..., -0.0428613 ,\n",
              "         0.03594201,  0.10893276],\n",
              "       ...,\n",
              "       [-0.10207114, -0.08624563,  0.18507832, ..., -0.20232072,\n",
              "        -0.02323659,  0.05735747],\n",
              "       [-0.10217407, -0.06134406,  0.21751443, ..., -0.20869987,\n",
              "        -0.06940581,  0.09559384],\n",
              "       [-0.10126583, -0.06322059,  0.21542992, ..., -0.20295537,\n",
              "        -0.11825134,  0.00921442]], dtype=float32)"
            ]
          },
          "execution_count": 27,
          "metadata": {},
          "output_type": "execute_result"
        }
      ],
      "source": [
        "filename2features['trial_truth_001'] # тут хранятся входы в softmax для каждого кадра trial_truth_001"
      ]
    },
    {
      "cell_type": "code",
      "execution_count": null,
      "metadata": {
        "id": "cDGnGKNKubeQ"
      },
      "outputs": [],
      "source": [
        "from IPython import display\n",
        "filename='trial_truth_001'\n",
        "\n",
        "#data_dir=os.path.join(DATA_DIR,'frames/faces/mtcnn_aligned/validation/')\n",
        "data_dir=os.path.join(data_dir,'faces/mtcnn_aligned/Train/')\n",
        "\n",
        "features=filename2features[filename] #filename2features_val[filename] || берем фичи одного видео\n",
        "\n",
        "frames_probabs=get_probab(features) # получаем вероятности эмоций\n",
        "\n",
        "frames_dir=os.path.join(data_dir, filename)\n",
        "\n",
        "faces_only=[fn for fn in os.listdir(frames_dir) if 'noface' not in fn] # берем изображения только с лицами\n",
        "faces_only=sorted(faces_only, key=compare_filenames) "
      ]
    },
    {
      "cell_type": "code",
      "execution_count": null,
      "metadata": {
        "colab": {
          "base_uri": "https://localhost:8080/",
          "height": 264
        },
        "id": "4cJDG2LsubWu",
        "outputId": "00843ded-8ab3-403f-a509-bf8c0d0f62f6"
      },
      "outputs": [
        {
          "data": {
            "image/png": "[encoded data removed]",
            "text/plain": [
              "<Figure size 432x288 with 1 Axes>"
            ]
          },
          "metadata": {
            "needs_background": "light"
          },
          "output_type": "display_data"
        }
      ],
      "source": [
        "for img_name, probabs in zip(faces_only, frames_probabs):\n",
        "    img = Image.open(os.path.join(frames_dir, img_name))\n",
        "    display.clear_output(wait=True)\n",
        "    plt.axis('off')\n",
        "    emotion_ind=np.argmax(probabs)\n",
        "    title=emotion_ind2label[emotion_ind]+\": {:.2f}\".format(probabs[emotion_ind])\n",
        "    plt.title(title)\n",
        "    plt.imshow(img)\n",
        "    plt.show()"
      ]
    }
  ],
  "metadata": {
    "accelerator": "GPU",
    "colab": {
      "collapsed_sections": [
        "uQhmeKF5gzah",
        "w-SqmH-cg6SW",
        "mWqnwqUoufgD",
        "D-58oUtsCjSJ",
        "Ej2mgWRQWhKo",
        "qQPpq1VJWhKr",
        "XJB1Pcl2X42X",
        "7E2GNGfaYVdn",
        "KL16vH_qoef-",
        "k6Mj6zb7rlJP",
        "b6K-bkx8cJNc",
        "W6dK9rysaXKt"
      ],
      "name": "course_work.ipynb",
      "provenance": []
    },
    "interpreter": {
      "hash": "f08154012ddadd8e950e6e9e035c7a7b32c136e7647e9b7c77e02eb723a8bedb"
    },
    "kernelspec": {
      "display_name": "Python 3.8.5 ('base')",
      "language": "python",
      "name": "python3"
    },
    "language_info": {
      "codemirror_mode": {
        "name": "ipython",
        "version": 3
      },
      "file_extension": ".py",
      "mimetype": "text/x-python",
      "name": "python",
      "nbconvert_exporter": "python",
      "pygments_lexer": "ipython3",
      "version": "3.8.5"
    },
    "widgets": {
      "application/vnd.jupyter.widget-state+json": {
        "057d5e47d99b47dd99b59015066b69a2": {
          "model_module": "@jupyter-widgets/base",
          "model_module_version": "1.2.0",
          "model_name": "LayoutModel",
          "state": {
            "_model_module": "@jupyter-widgets/base",
            "_model_module_version": "1.2.0",
            "_model_name": "LayoutModel",
            "_view_count": null,
            "_view_module": "@jupyter-widgets/base",
            "_view_module_version": "1.2.0",
            "_view_name": "LayoutView",
            "align_content": null,
            "align_items": null,
            "align_self": null,
            "border": null,
            "bottom": null,
            "display": null,
            "flex": null,
            "flex_flow": null,
            "grid_area": null,
            "grid_auto_columns": null,
            "grid_auto_flow": null,
            "grid_auto_rows": null,
            "grid_column": null,
            "grid_gap": null,
            "grid_row": null,
            "grid_template_areas": null,
            "grid_template_columns": null,
            "grid_template_rows": null,
            "height": null,
            "justify_content": null,
            "justify_items": null,
            "left": null,
            "margin": null,
            "max_height": null,
            "max_width": null,
            "min_height": null,
            "min_width": null,
            "object_fit": null,
            "object_position": null,
            "order": null,
            "overflow": null,
            "overflow_x": null,
            "overflow_y": null,
            "padding": null,
            "right": null,
            "top": null,
            "visibility": null,
            "width": null
          }
        },
        "10894323b5e7440e926ff15aa2ebdc9b": {
          "model_module": "@jupyter-widgets/controls",
          "model_module_version": "1.5.0",
          "model_name": "HTMLModel",
          "state": {
            "_dom_classes": [],
            "_model_module": "@jupyter-widgets/controls",
            "_model_module_version": "1.5.0",
            "_model_name": "HTMLModel",
            "_view_count": null,
            "_view_module": "@jupyter-widgets/controls",
            "_view_module_version": "1.5.0",
            "_view_name": "HTMLView",
            "description": "",
            "description_tooltip": null,
            "layout": "IPY_MODEL_864e62e7706b4851948a41052b6c47bd",
            "placeholder": "​",
            "style": "IPY_MODEL_2bc90b4aa54c4d879934a73afd8c51f0",
            "value": " 1/1 [00:13&lt;00:00, 13.28s/it]"
          }
        },
        "16fb2c2f46f0418591344b830ebcd54b": {
          "model_module": "@jupyter-widgets/controls",
          "model_module_version": "1.5.0",
          "model_name": "ProgressStyleModel",
          "state": {
            "_model_module": "@jupyter-widgets/controls",
            "_model_module_version": "1.5.0",
            "_model_name": "ProgressStyleModel",
            "_view_count": null,
            "_view_module": "@jupyter-widgets/base",
            "_view_module_version": "1.2.0",
            "_view_name": "StyleView",
            "bar_color": null,
            "description_width": ""
          }
        },
        "2351aff55da545988a54cfbece103fe1": {
          "model_module": "@jupyter-widgets/controls",
          "model_module_version": "1.5.0",
          "model_name": "HBoxModel",
          "state": {
            "_dom_classes": [],
            "_model_module": "@jupyter-widgets/controls",
            "_model_module_version": "1.5.0",
            "_model_name": "HBoxModel",
            "_view_count": null,
            "_view_module": "@jupyter-widgets/controls",
            "_view_module_version": "1.5.0",
            "_view_name": "HBoxView",
            "box_style": "",
            "children": [
              "IPY_MODEL_9310cf13b5404ada80fb3c73638371d8",
              "IPY_MODEL_cf9bd841b15242b5be0eb81bbeaf0439",
              "IPY_MODEL_10894323b5e7440e926ff15aa2ebdc9b"
            ],
            "layout": "IPY_MODEL_c771d02fcb7e4b078a53f31a7942f1f6"
          }
        },
        "25b99201bce8440cb5b57ff07870dc5d": {
          "model_module": "@jupyter-widgets/controls",
          "model_module_version": "1.5.0",
          "model_name": "HTMLModel",
          "state": {
            "_dom_classes": [],
            "_model_module": "@jupyter-widgets/controls",
            "_model_module_version": "1.5.0",
            "_model_name": "HTMLModel",
            "_view_count": null,
            "_view_module": "@jupyter-widgets/controls",
            "_view_module_version": "1.5.0",
            "_view_name": "HTMLView",
            "description": "",
            "description_tooltip": null,
            "layout": "IPY_MODEL_cb88d845de6b4f6eb3bfa49b5159aac9",
            "placeholder": "​",
            "style": "IPY_MODEL_4fbc0a0baaab437b82011fdcf5d39318",
            "value": "100%"
          }
        },
        "2bc90b4aa54c4d879934a73afd8c51f0": {
          "model_module": "@jupyter-widgets/controls",
          "model_module_version": "1.5.0",
          "model_name": "DescriptionStyleModel",
          "state": {
            "_model_module": "@jupyter-widgets/controls",
            "_model_module_version": "1.5.0",
            "_model_name": "DescriptionStyleModel",
            "_view_count": null,
            "_view_module": "@jupyter-widgets/base",
            "_view_module_version": "1.2.0",
            "_view_name": "StyleView",
            "description_width": ""
          }
        },
        "3910f210078f4332a93091774ef20493": {
          "model_module": "@jupyter-widgets/controls",
          "model_module_version": "1.5.0",
          "model_name": "HBoxModel",
          "state": {
            "_dom_classes": [],
            "_model_module": "@jupyter-widgets/controls",
            "_model_module_version": "1.5.0",
            "_model_name": "HBoxModel",
            "_view_count": null,
            "_view_module": "@jupyter-widgets/controls",
            "_view_module_version": "1.5.0",
            "_view_name": "HBoxView",
            "box_style": "",
            "children": [
              "IPY_MODEL_f8a7a1aed60246b89f1addb61c5a0f1d",
              "IPY_MODEL_4881fb12783c4077bfe347bbdd218281",
              "IPY_MODEL_bf39e2dbe8d3420ca5073973ad2af0ac"
            ],
            "layout": "IPY_MODEL_71cb606bfdef46b7935b1a1b6d89e77d"
          }
        },
        "4881fb12783c4077bfe347bbdd218281": {
          "model_module": "@jupyter-widgets/controls",
          "model_module_version": "1.5.0",
          "model_name": "FloatProgressModel",
          "state": {
            "_dom_classes": [],
            "_model_module": "@jupyter-widgets/controls",
            "_model_module_version": "1.5.0",
            "_model_name": "FloatProgressModel",
            "_view_count": null,
            "_view_module": "@jupyter-widgets/controls",
            "_view_module_version": "1.5.0",
            "_view_name": "ProgressView",
            "bar_style": "success",
            "description": "",
            "description_tooltip": null,
            "layout": "IPY_MODEL_802738dbaf9f4325829996922102b485",
            "max": 1,
            "min": 0,
            "orientation": "horizontal",
            "style": "IPY_MODEL_16fb2c2f46f0418591344b830ebcd54b",
            "value": 1
          }
        },
        "4b214164cb5b4a9c85f5cfc0c266ac22": {
          "model_module": "@jupyter-widgets/base",
          "model_module_version": "1.2.0",
          "model_name": "LayoutModel",
          "state": {
            "_model_module": "@jupyter-widgets/base",
            "_model_module_version": "1.2.0",
            "_model_name": "LayoutModel",
            "_view_count": null,
            "_view_module": "@jupyter-widgets/base",
            "_view_module_version": "1.2.0",
            "_view_name": "LayoutView",
            "align_content": null,
            "align_items": null,
            "align_self": null,
            "border": null,
            "bottom": null,
            "display": null,
            "flex": null,
            "flex_flow": null,
            "grid_area": null,
            "grid_auto_columns": null,
            "grid_auto_flow": null,
            "grid_auto_rows": null,
            "grid_column": null,
            "grid_gap": null,
            "grid_row": null,
            "grid_template_areas": null,
            "grid_template_columns": null,
            "grid_template_rows": null,
            "height": null,
            "justify_content": null,
            "justify_items": null,
            "left": null,
            "margin": null,
            "max_height": null,
            "max_width": null,
            "min_height": null,
            "min_width": null,
            "object_fit": null,
            "object_position": null,
            "order": null,
            "overflow": null,
            "overflow_x": null,
            "overflow_y": null,
            "padding": null,
            "right": null,
            "top": null,
            "visibility": null,
            "width": null
          }
        },
        "4bb98ea39d6a4593a85918d7c62592e1": {
          "model_module": "@jupyter-widgets/controls",
          "model_module_version": "1.5.0",
          "model_name": "ProgressStyleModel",
          "state": {
            "_model_module": "@jupyter-widgets/controls",
            "_model_module_version": "1.5.0",
            "_model_name": "ProgressStyleModel",
            "_view_count": null,
            "_view_module": "@jupyter-widgets/base",
            "_view_module_version": "1.2.0",
            "_view_name": "StyleView",
            "bar_color": null,
            "description_width": ""
          }
        },
        "4fbc0a0baaab437b82011fdcf5d39318": {
          "model_module": "@jupyter-widgets/controls",
          "model_module_version": "1.5.0",
          "model_name": "DescriptionStyleModel",
          "state": {
            "_model_module": "@jupyter-widgets/controls",
            "_model_module_version": "1.5.0",
            "_model_name": "DescriptionStyleModel",
            "_view_count": null,
            "_view_module": "@jupyter-widgets/base",
            "_view_module_version": "1.2.0",
            "_view_name": "StyleView",
            "description_width": ""
          }
        },
        "5ecb2b8d343b47cc8b8aaf3dcac34229": {
          "model_module": "@jupyter-widgets/base",
          "model_module_version": "1.2.0",
          "model_name": "LayoutModel",
          "state": {
            "_model_module": "@jupyter-widgets/base",
            "_model_module_version": "1.2.0",
            "_model_name": "LayoutModel",
            "_view_count": null,
            "_view_module": "@jupyter-widgets/base",
            "_view_module_version": "1.2.0",
            "_view_name": "LayoutView",
            "align_content": null,
            "align_items": null,
            "align_self": null,
            "border": null,
            "bottom": null,
            "display": null,
            "flex": null,
            "flex_flow": null,
            "grid_area": null,
            "grid_auto_columns": null,
            "grid_auto_flow": null,
            "grid_auto_rows": null,
            "grid_column": null,
            "grid_gap": null,
            "grid_row": null,
            "grid_template_areas": null,
            "grid_template_columns": null,
            "grid_template_rows": null,
            "height": null,
            "justify_content": null,
            "justify_items": null,
            "left": null,
            "margin": null,
            "max_height": null,
            "max_width": null,
            "min_height": null,
            "min_width": null,
            "object_fit": null,
            "object_position": null,
            "order": null,
            "overflow": null,
            "overflow_x": null,
            "overflow_y": null,
            "padding": null,
            "right": null,
            "top": null,
            "visibility": null,
            "width": null
          }
        },
        "67e5f91b1c2a41d895a238228e18852f": {
          "model_module": "@jupyter-widgets/controls",
          "model_module_version": "1.5.0",
          "model_name": "DescriptionStyleModel",
          "state": {
            "_model_module": "@jupyter-widgets/controls",
            "_model_module_version": "1.5.0",
            "_model_name": "DescriptionStyleModel",
            "_view_count": null,
            "_view_module": "@jupyter-widgets/base",
            "_view_module_version": "1.2.0",
            "_view_name": "StyleView",
            "description_width": ""
          }
        },
        "6ab12cca197a4f53ab4263f7fcd99d5a": {
          "model_module": "@jupyter-widgets/controls",
          "model_module_version": "1.5.0",
          "model_name": "FloatProgressModel",
          "state": {
            "_dom_classes": [],
            "_model_module": "@jupyter-widgets/controls",
            "_model_module_version": "1.5.0",
            "_model_name": "FloatProgressModel",
            "_view_count": null,
            "_view_module": "@jupyter-widgets/controls",
            "_view_module_version": "1.5.0",
            "_view_name": "ProgressView",
            "bar_style": "success",
            "description": "",
            "description_tooltip": null,
            "layout": "IPY_MODEL_6ea00e065caa47899c47ccd784e1a945",
            "max": 1,
            "min": 0,
            "orientation": "horizontal",
            "style": "IPY_MODEL_e6595e2d1ce642c69d895b224b5a8fd7",
            "value": 1
          }
        },
        "6ea00e065caa47899c47ccd784e1a945": {
          "model_module": "@jupyter-widgets/base",
          "model_module_version": "1.2.0",
          "model_name": "LayoutModel",
          "state": {
            "_model_module": "@jupyter-widgets/base",
            "_model_module_version": "1.2.0",
            "_model_name": "LayoutModel",
            "_view_count": null,
            "_view_module": "@jupyter-widgets/base",
            "_view_module_version": "1.2.0",
            "_view_name": "LayoutView",
            "align_content": null,
            "align_items": null,
            "align_self": null,
            "border": null,
            "bottom": null,
            "display": null,
            "flex": null,
            "flex_flow": null,
            "grid_area": null,
            "grid_auto_columns": null,
            "grid_auto_flow": null,
            "grid_auto_rows": null,
            "grid_column": null,
            "grid_gap": null,
            "grid_row": null,
            "grid_template_areas": null,
            "grid_template_columns": null,
            "grid_template_rows": null,
            "height": null,
            "justify_content": null,
            "justify_items": null,
            "left": null,
            "margin": null,
            "max_height": null,
            "max_width": null,
            "min_height": null,
            "min_width": null,
            "object_fit": null,
            "object_position": null,
            "order": null,
            "overflow": null,
            "overflow_x": null,
            "overflow_y": null,
            "padding": null,
            "right": null,
            "top": null,
            "visibility": null,
            "width": null
          }
        },
        "71cb606bfdef46b7935b1a1b6d89e77d": {
          "model_module": "@jupyter-widgets/base",
          "model_module_version": "1.2.0",
          "model_name": "LayoutModel",
          "state": {
            "_model_module": "@jupyter-widgets/base",
            "_model_module_version": "1.2.0",
            "_model_name": "LayoutModel",
            "_view_count": null,
            "_view_module": "@jupyter-widgets/base",
            "_view_module_version": "1.2.0",
            "_view_name": "LayoutView",
            "align_content": null,
            "align_items": null,
            "align_self": null,
            "border": null,
            "bottom": null,
            "display": null,
            "flex": null,
            "flex_flow": null,
            "grid_area": null,
            "grid_auto_columns": null,
            "grid_auto_flow": null,
            "grid_auto_rows": null,
            "grid_column": null,
            "grid_gap": null,
            "grid_row": null,
            "grid_template_areas": null,
            "grid_template_columns": null,
            "grid_template_rows": null,
            "height": null,
            "justify_content": null,
            "justify_items": null,
            "left": null,
            "margin": null,
            "max_height": null,
            "max_width": null,
            "min_height": null,
            "min_width": null,
            "object_fit": null,
            "object_position": null,
            "order": null,
            "overflow": null,
            "overflow_x": null,
            "overflow_y": null,
            "padding": null,
            "right": null,
            "top": null,
            "visibility": null,
            "width": null
          }
        },
        "802738dbaf9f4325829996922102b485": {
          "model_module": "@jupyter-widgets/base",
          "model_module_version": "1.2.0",
          "model_name": "LayoutModel",
          "state": {
            "_model_module": "@jupyter-widgets/base",
            "_model_module_version": "1.2.0",
            "_model_name": "LayoutModel",
            "_view_count": null,
            "_view_module": "@jupyter-widgets/base",
            "_view_module_version": "1.2.0",
            "_view_name": "LayoutView",
            "align_content": null,
            "align_items": null,
            "align_self": null,
            "border": null,
            "bottom": null,
            "display": null,
            "flex": null,
            "flex_flow": null,
            "grid_area": null,
            "grid_auto_columns": null,
            "grid_auto_flow": null,
            "grid_auto_rows": null,
            "grid_column": null,
            "grid_gap": null,
            "grid_row": null,
            "grid_template_areas": null,
            "grid_template_columns": null,
            "grid_template_rows": null,
            "height": null,
            "justify_content": null,
            "justify_items": null,
            "left": null,
            "margin": null,
            "max_height": null,
            "max_width": null,
            "min_height": null,
            "min_width": null,
            "object_fit": null,
            "object_position": null,
            "order": null,
            "overflow": null,
            "overflow_x": null,
            "overflow_y": null,
            "padding": null,
            "right": null,
            "top": null,
            "visibility": null,
            "width": null
          }
        },
        "80a9aacd756d4f3bbd7d7adbe0bc9fd9": {
          "model_module": "@jupyter-widgets/base",
          "model_module_version": "1.2.0",
          "model_name": "LayoutModel",
          "state": {
            "_model_module": "@jupyter-widgets/base",
            "_model_module_version": "1.2.0",
            "_model_name": "LayoutModel",
            "_view_count": null,
            "_view_module": "@jupyter-widgets/base",
            "_view_module_version": "1.2.0",
            "_view_name": "LayoutView",
            "align_content": null,
            "align_items": null,
            "align_self": null,
            "border": null,
            "bottom": null,
            "display": null,
            "flex": null,
            "flex_flow": null,
            "grid_area": null,
            "grid_auto_columns": null,
            "grid_auto_flow": null,
            "grid_auto_rows": null,
            "grid_column": null,
            "grid_gap": null,
            "grid_row": null,
            "grid_template_areas": null,
            "grid_template_columns": null,
            "grid_template_rows": null,
            "height": null,
            "justify_content": null,
            "justify_items": null,
            "left": null,
            "margin": null,
            "max_height": null,
            "max_width": null,
            "min_height": null,
            "min_width": null,
            "object_fit": null,
            "object_position": null,
            "order": null,
            "overflow": null,
            "overflow_x": null,
            "overflow_y": null,
            "padding": null,
            "right": null,
            "top": null,
            "visibility": null,
            "width": null
          }
        },
        "864e62e7706b4851948a41052b6c47bd": {
          "model_module": "@jupyter-widgets/base",
          "model_module_version": "1.2.0",
          "model_name": "LayoutModel",
          "state": {
            "_model_module": "@jupyter-widgets/base",
            "_model_module_version": "1.2.0",
            "_model_name": "LayoutModel",
            "_view_count": null,
            "_view_module": "@jupyter-widgets/base",
            "_view_module_version": "1.2.0",
            "_view_name": "LayoutView",
            "align_content": null,
            "align_items": null,
            "align_self": null,
            "border": null,
            "bottom": null,
            "display": null,
            "flex": null,
            "flex_flow": null,
            "grid_area": null,
            "grid_auto_columns": null,
            "grid_auto_flow": null,
            "grid_auto_rows": null,
            "grid_column": null,
            "grid_gap": null,
            "grid_row": null,
            "grid_template_areas": null,
            "grid_template_columns": null,
            "grid_template_rows": null,
            "height": null,
            "justify_content": null,
            "justify_items": null,
            "left": null,
            "margin": null,
            "max_height": null,
            "max_width": null,
            "min_height": null,
            "min_width": null,
            "object_fit": null,
            "object_position": null,
            "order": null,
            "overflow": null,
            "overflow_x": null,
            "overflow_y": null,
            "padding": null,
            "right": null,
            "top": null,
            "visibility": null,
            "width": null
          }
        },
        "886e9da42d654f938ec9557e747bd7c3": {
          "model_module": "@jupyter-widgets/controls",
          "model_module_version": "1.5.0",
          "model_name": "DescriptionStyleModel",
          "state": {
            "_model_module": "@jupyter-widgets/controls",
            "_model_module_version": "1.5.0",
            "_model_name": "DescriptionStyleModel",
            "_view_count": null,
            "_view_module": "@jupyter-widgets/base",
            "_view_module_version": "1.2.0",
            "_view_name": "StyleView",
            "description_width": ""
          }
        },
        "8b0cbd725e6d46aaa3800d09bf59db26": {
          "model_module": "@jupyter-widgets/controls",
          "model_module_version": "1.5.0",
          "model_name": "DescriptionStyleModel",
          "state": {
            "_model_module": "@jupyter-widgets/controls",
            "_model_module_version": "1.5.0",
            "_model_name": "DescriptionStyleModel",
            "_view_count": null,
            "_view_module": "@jupyter-widgets/base",
            "_view_module_version": "1.2.0",
            "_view_name": "StyleView",
            "description_width": ""
          }
        },
        "8deb31fd3f254a908731bcba9f80e6aa": {
          "model_module": "@jupyter-widgets/controls",
          "model_module_version": "1.5.0",
          "model_name": "DescriptionStyleModel",
          "state": {
            "_model_module": "@jupyter-widgets/controls",
            "_model_module_version": "1.5.0",
            "_model_name": "DescriptionStyleModel",
            "_view_count": null,
            "_view_module": "@jupyter-widgets/base",
            "_view_module_version": "1.2.0",
            "_view_name": "StyleView",
            "description_width": ""
          }
        },
        "9310cf13b5404ada80fb3c73638371d8": {
          "model_module": "@jupyter-widgets/controls",
          "model_module_version": "1.5.0",
          "model_name": "HTMLModel",
          "state": {
            "_dom_classes": [],
            "_model_module": "@jupyter-widgets/controls",
            "_model_module_version": "1.5.0",
            "_model_name": "HTMLModel",
            "_view_count": null,
            "_view_module": "@jupyter-widgets/controls",
            "_view_module_version": "1.5.0",
            "_view_name": "HTMLView",
            "description": "",
            "description_tooltip": null,
            "layout": "IPY_MODEL_ebd59f44496d4cabbb6627d76a44e8b2",
            "placeholder": "​",
            "style": "IPY_MODEL_67e5f91b1c2a41d895a238228e18852f",
            "value": "100%"
          }
        },
        "bf39e2dbe8d3420ca5073973ad2af0ac": {
          "model_module": "@jupyter-widgets/controls",
          "model_module_version": "1.5.0",
          "model_name": "HTMLModel",
          "state": {
            "_dom_classes": [],
            "_model_module": "@jupyter-widgets/controls",
            "_model_module_version": "1.5.0",
            "_model_name": "HTMLModel",
            "_view_count": null,
            "_view_module": "@jupyter-widgets/controls",
            "_view_module_version": "1.5.0",
            "_view_name": "HTMLView",
            "description": "",
            "description_tooltip": null,
            "layout": "IPY_MODEL_da019452135d4fe3a0059699e3075bf8",
            "placeholder": "​",
            "style": "IPY_MODEL_8deb31fd3f254a908731bcba9f80e6aa",
            "value": " 1/1 [00:29&lt;00:00, 29.66s/it]"
          }
        },
        "c771d02fcb7e4b078a53f31a7942f1f6": {
          "model_module": "@jupyter-widgets/base",
          "model_module_version": "1.2.0",
          "model_name": "LayoutModel",
          "state": {
            "_model_module": "@jupyter-widgets/base",
            "_model_module_version": "1.2.0",
            "_model_name": "LayoutModel",
            "_view_count": null,
            "_view_module": "@jupyter-widgets/base",
            "_view_module_version": "1.2.0",
            "_view_name": "LayoutView",
            "align_content": null,
            "align_items": null,
            "align_self": null,
            "border": null,
            "bottom": null,
            "display": null,
            "flex": null,
            "flex_flow": null,
            "grid_area": null,
            "grid_auto_columns": null,
            "grid_auto_flow": null,
            "grid_auto_rows": null,
            "grid_column": null,
            "grid_gap": null,
            "grid_row": null,
            "grid_template_areas": null,
            "grid_template_columns": null,
            "grid_template_rows": null,
            "height": null,
            "justify_content": null,
            "justify_items": null,
            "left": null,
            "margin": null,
            "max_height": null,
            "max_width": null,
            "min_height": null,
            "min_width": null,
            "object_fit": null,
            "object_position": null,
            "order": null,
            "overflow": null,
            "overflow_x": null,
            "overflow_y": null,
            "padding": null,
            "right": null,
            "top": null,
            "visibility": null,
            "width": null
          }
        },
        "cb88d845de6b4f6eb3bfa49b5159aac9": {
          "model_module": "@jupyter-widgets/base",
          "model_module_version": "1.2.0",
          "model_name": "LayoutModel",
          "state": {
            "_model_module": "@jupyter-widgets/base",
            "_model_module_version": "1.2.0",
            "_model_name": "LayoutModel",
            "_view_count": null,
            "_view_module": "@jupyter-widgets/base",
            "_view_module_version": "1.2.0",
            "_view_name": "LayoutView",
            "align_content": null,
            "align_items": null,
            "align_self": null,
            "border": null,
            "bottom": null,
            "display": null,
            "flex": null,
            "flex_flow": null,
            "grid_area": null,
            "grid_auto_columns": null,
            "grid_auto_flow": null,
            "grid_auto_rows": null,
            "grid_column": null,
            "grid_gap": null,
            "grid_row": null,
            "grid_template_areas": null,
            "grid_template_columns": null,
            "grid_template_rows": null,
            "height": null,
            "justify_content": null,
            "justify_items": null,
            "left": null,
            "margin": null,
            "max_height": null,
            "max_width": null,
            "min_height": null,
            "min_width": null,
            "object_fit": null,
            "object_position": null,
            "order": null,
            "overflow": null,
            "overflow_x": null,
            "overflow_y": null,
            "padding": null,
            "right": null,
            "top": null,
            "visibility": null,
            "width": null
          }
        },
        "cf9bd841b15242b5be0eb81bbeaf0439": {
          "model_module": "@jupyter-widgets/controls",
          "model_module_version": "1.5.0",
          "model_name": "FloatProgressModel",
          "state": {
            "_dom_classes": [],
            "_model_module": "@jupyter-widgets/controls",
            "_model_module_version": "1.5.0",
            "_model_name": "FloatProgressModel",
            "_view_count": null,
            "_view_module": "@jupyter-widgets/controls",
            "_view_module_version": "1.5.0",
            "_view_name": "ProgressView",
            "bar_style": "success",
            "description": "",
            "description_tooltip": null,
            "layout": "IPY_MODEL_80a9aacd756d4f3bbd7d7adbe0bc9fd9",
            "max": 1,
            "min": 0,
            "orientation": "horizontal",
            "style": "IPY_MODEL_4bb98ea39d6a4593a85918d7c62592e1",
            "value": 1
          }
        },
        "d4c58150132645cc88f121bb5943a346": {
          "model_module": "@jupyter-widgets/controls",
          "model_module_version": "1.5.0",
          "model_name": "HBoxModel",
          "state": {
            "_dom_classes": [],
            "_model_module": "@jupyter-widgets/controls",
            "_model_module_version": "1.5.0",
            "_model_name": "HBoxModel",
            "_view_count": null,
            "_view_module": "@jupyter-widgets/controls",
            "_view_module_version": "1.5.0",
            "_view_name": "HBoxView",
            "box_style": "",
            "children": [
              "IPY_MODEL_25b99201bce8440cb5b57ff07870dc5d",
              "IPY_MODEL_6ab12cca197a4f53ab4263f7fcd99d5a",
              "IPY_MODEL_ef9cbbadb5614c669bc77fde93312b75"
            ],
            "layout": "IPY_MODEL_4b214164cb5b4a9c85f5cfc0c266ac22"
          }
        },
        "da019452135d4fe3a0059699e3075bf8": {
          "model_module": "@jupyter-widgets/base",
          "model_module_version": "1.2.0",
          "model_name": "LayoutModel",
          "state": {
            "_model_module": "@jupyter-widgets/base",
            "_model_module_version": "1.2.0",
            "_model_name": "LayoutModel",
            "_view_count": null,
            "_view_module": "@jupyter-widgets/base",
            "_view_module_version": "1.2.0",
            "_view_name": "LayoutView",
            "align_content": null,
            "align_items": null,
            "align_self": null,
            "border": null,
            "bottom": null,
            "display": null,
            "flex": null,
            "flex_flow": null,
            "grid_area": null,
            "grid_auto_columns": null,
            "grid_auto_flow": null,
            "grid_auto_rows": null,
            "grid_column": null,
            "grid_gap": null,
            "grid_row": null,
            "grid_template_areas": null,
            "grid_template_columns": null,
            "grid_template_rows": null,
            "height": null,
            "justify_content": null,
            "justify_items": null,
            "left": null,
            "margin": null,
            "max_height": null,
            "max_width": null,
            "min_height": null,
            "min_width": null,
            "object_fit": null,
            "object_position": null,
            "order": null,
            "overflow": null,
            "overflow_x": null,
            "overflow_y": null,
            "padding": null,
            "right": null,
            "top": null,
            "visibility": null,
            "width": null
          }
        },
        "e6595e2d1ce642c69d895b224b5a8fd7": {
          "model_module": "@jupyter-widgets/controls",
          "model_module_version": "1.5.0",
          "model_name": "ProgressStyleModel",
          "state": {
            "_model_module": "@jupyter-widgets/controls",
            "_model_module_version": "1.5.0",
            "_model_name": "ProgressStyleModel",
            "_view_count": null,
            "_view_module": "@jupyter-widgets/base",
            "_view_module_version": "1.2.0",
            "_view_name": "StyleView",
            "bar_color": null,
            "description_width": ""
          }
        },
        "ebd59f44496d4cabbb6627d76a44e8b2": {
          "model_module": "@jupyter-widgets/base",
          "model_module_version": "1.2.0",
          "model_name": "LayoutModel",
          "state": {
            "_model_module": "@jupyter-widgets/base",
            "_model_module_version": "1.2.0",
            "_model_name": "LayoutModel",
            "_view_count": null,
            "_view_module": "@jupyter-widgets/base",
            "_view_module_version": "1.2.0",
            "_view_name": "LayoutView",
            "align_content": null,
            "align_items": null,
            "align_self": null,
            "border": null,
            "bottom": null,
            "display": null,
            "flex": null,
            "flex_flow": null,
            "grid_area": null,
            "grid_auto_columns": null,
            "grid_auto_flow": null,
            "grid_auto_rows": null,
            "grid_column": null,
            "grid_gap": null,
            "grid_row": null,
            "grid_template_areas": null,
            "grid_template_columns": null,
            "grid_template_rows": null,
            "height": null,
            "justify_content": null,
            "justify_items": null,
            "left": null,
            "margin": null,
            "max_height": null,
            "max_width": null,
            "min_height": null,
            "min_width": null,
            "object_fit": null,
            "object_position": null,
            "order": null,
            "overflow": null,
            "overflow_x": null,
            "overflow_y": null,
            "padding": null,
            "right": null,
            "top": null,
            "visibility": null,
            "width": null
          }
        },
        "ef9cbbadb5614c669bc77fde93312b75": {
          "model_module": "@jupyter-widgets/controls",
          "model_module_version": "1.5.0",
          "model_name": "HTMLModel",
          "state": {
            "_dom_classes": [],
            "_model_module": "@jupyter-widgets/controls",
            "_model_module_version": "1.5.0",
            "_model_name": "HTMLModel",
            "_view_count": null,
            "_view_module": "@jupyter-widgets/controls",
            "_view_module_version": "1.5.0",
            "_view_name": "HTMLView",
            "description": "",
            "description_tooltip": null,
            "layout": "IPY_MODEL_5ecb2b8d343b47cc8b8aaf3dcac34229",
            "placeholder": "​",
            "style": "IPY_MODEL_8b0cbd725e6d46aaa3800d09bf59db26",
            "value": " 1/1 [00:41&lt;00:00, 41.51s/it]"
          }
        },
        "f8a7a1aed60246b89f1addb61c5a0f1d": {
          "model_module": "@jupyter-widgets/controls",
          "model_module_version": "1.5.0",
          "model_name": "HTMLModel",
          "state": {
            "_dom_classes": [],
            "_model_module": "@jupyter-widgets/controls",
            "_model_module_version": "1.5.0",
            "_model_name": "HTMLModel",
            "_view_count": null,
            "_view_module": "@jupyter-widgets/controls",
            "_view_module_version": "1.5.0",
            "_view_name": "HTMLView",
            "description": "",
            "description_tooltip": null,
            "layout": "IPY_MODEL_057d5e47d99b47dd99b59015066b69a2",
            "placeholder": "​",
            "style": "IPY_MODEL_886e9da42d654f938ec9557e747bd7c3",
            "value": "100%"
          }
        }
      }
    }
  },
  "nbformat": 4,
  "nbformat_minor": 0
}
